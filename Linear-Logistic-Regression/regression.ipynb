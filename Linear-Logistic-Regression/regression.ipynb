{
 "cells": [
  {
   "cell_type": "markdown",
   "id": "fe70c2d1",
   "metadata": {},
   "source": [
    "# MiniProject 1: Regressions\n",
    "### How to run this notebook\n",
    "- Run all cells in order using _\"Run All\"_ in the Cell menu\n",
    "- If you wish to re-run a cell, you must re-run all cells in order after restarting the kernel\n",
    "\n",
    "- In certain cases, if the output of a cell is too large, you can click the _\"Open full output data in text editor\"_ button to view it. "
   ]
  },
  {
   "cell_type": "markdown",
   "id": "6c0b3e01",
   "metadata": {},
   "source": [
    "### Introduction\n",
    "Linear regression was the first type of regression analysis to be studied rigorously, and to be\n",
    "used extensively in many applications. This is because models which depend linearly on their\n",
    "unknown parameters are easier to fit than models which are non-linearly related to their\n",
    "parameters and because the statistical properties of the resulting estimators are easier to\n",
    "determine.\n",
    "\n",
    "\n",
    "Logistic regression is a classification algorithm used to assign observations to a discrete set of\n",
    "classes. Unlike linear regression which outputs continuous number values, logistic regression\n",
    "transforms its output using the logistic sigmoid function to return a probability value which can\n",
    "then be mapped to two or more discrete classes.\n",
    "\n",
    "This project contains two parts:\n",
    "- Part A: Linear Regression\n",
    "- Part B: Logistic Regression"
   ]
  },
  {
   "cell_type": "markdown",
   "id": "edb1e12e",
   "metadata": {},
   "source": [
    "## Part A : Linear Regression\n"
   ]
  },
  {
   "cell_type": "markdown",
   "id": "6c652b75",
   "metadata": {},
   "source": [
    "### Loading the dataset and libraries"
   ]
  },
  {
   "cell_type": "code",
   "execution_count": 1,
   "id": "38be25dd-e54c-428f-8aa2-9d67f620e3c1",
   "metadata": {},
   "outputs": [
    {
     "name": "stderr",
     "output_type": "stream",
     "text": [
      "/Users/soumenmohanty/opt/anaconda3/lib/python3.9/site-packages/sklearn/utils/deprecation.py:87: FutureWarning: Function load_boston is deprecated; `load_boston` is deprecated in 1.0 and will be removed in 1.2.\n",
      "\n",
      "    The Boston housing prices dataset has an ethical problem. You can refer to\n",
      "    the documentation of this function for further details.\n",
      "\n",
      "    The scikit-learn maintainers therefore strongly discourage the use of this\n",
      "    dataset unless the purpose of the code is to study and educate about\n",
      "    ethical issues in data science and machine learning.\n",
      "\n",
      "    In this special case, you can fetch the dataset from the original\n",
      "    source::\n",
      "\n",
      "        import pandas as pd\n",
      "        import numpy as np\n",
      "\n",
      "\n",
      "        data_url = \"http://lib.stat.cmu.edu/datasets/boston\"\n",
      "        raw_df = pd.read_csv(data_url, sep=\"\\s+\", skiprows=22, header=None)\n",
      "        data = np.hstack([raw_df.values[::2, :], raw_df.values[1::2, :2]])\n",
      "        target = raw_df.values[1::2, 2]\n",
      "\n",
      "    Alternative datasets include the California housing dataset (i.e.\n",
      "    :func:`~sklearn.datasets.fetch_california_housing`) and the Ames housing\n",
      "    dataset. You can load the datasets as follows::\n",
      "\n",
      "        from sklearn.datasets import fetch_california_housing\n",
      "        housing = fetch_california_housing()\n",
      "\n",
      "    for the California housing dataset and::\n",
      "\n",
      "        from sklearn.datasets import fetch_openml\n",
      "        housing = fetch_openml(name=\"house_prices\", as_frame=True)\n",
      "\n",
      "    for the Ames housing dataset.\n",
      "    \n",
      "  warnings.warn(msg, category=FutureWarning)\n"
     ]
    }
   ],
   "source": [
    "import   numpy   as   np \n",
    "import  pandas   as   pd\n",
    "import sklearn\n",
    "import warnings \n",
    "from   sklearn.model_selection   import   train_test_split\n",
    "from   sklearn.datasets   import   load_boston\n",
    "from   sklearn.model_selection   import   KFold\n",
    "## Avoid printing out warnings\n",
    "with warnings.catch_warnings():\n",
    "    warnings.filterwarnings(\"ignore\")\n",
    "    X, y = load_boston(return_X_y=True)\n",
    "boston_dataset   =   load_boston ()\n",
    "pd_dataset = pd.DataFrame(boston_dataset.data, columns=boston_dataset.feature_names)\n",
    "pd_dataset['MEDV'] = boston_dataset.target\n",
    "# pd_dataset = np.c_[np.ones(pd_dataset.shape[0]), pd_dataset]"
   ]
  },
  {
   "cell_type": "markdown",
   "id": "a8c37ce6",
   "metadata": {},
   "source": [
    "### Exploring the dataset"
   ]
  },
  {
   "cell_type": "code",
   "execution_count": 2,
   "id": "362c2e9e",
   "metadata": {},
   "outputs": [
    {
     "name": "stdout",
     "output_type": "stream",
     "text": [
      ".. _boston_dataset:\n",
      "\n",
      "Boston house prices dataset\n",
      "---------------------------\n",
      "\n",
      "**Data Set Characteristics:**  \n",
      "\n",
      "    :Number of Instances: 506 \n",
      "\n",
      "    :Number of Attributes: 13 numeric/categorical predictive. Median Value (attribute 14) is usually the target.\n",
      "\n",
      "    :Attribute Information (in order):\n",
      "        - CRIM     per capita crime rate by town\n",
      "        - ZN       proportion of residential land zoned for lots over 25,000 sq.ft.\n",
      "        - INDUS    proportion of non-retail business acres per town\n",
      "        - CHAS     Charles River dummy variable (= 1 if tract bounds river; 0 otherwise)\n",
      "        - NOX      nitric oxides concentration (parts per 10 million)\n",
      "        - RM       average number of rooms per dwelling\n",
      "        - AGE      proportion of owner-occupied units built prior to 1940\n",
      "        - DIS      weighted distances to five Boston employment centres\n",
      "        - RAD      index of accessibility to radial highways\n",
      "        - TAX      full-value property-tax rate per $10,000\n",
      "        - PTRATIO  pupil-teacher ratio by town\n",
      "        - B        1000(Bk - 0.63)^2 where Bk is the proportion of black people by town\n",
      "        - LSTAT    % lower status of the population\n",
      "        - MEDV     Median value of owner-occupied homes in $1000's\n",
      "\n",
      "    :Missing Attribute Values: None\n",
      "\n",
      "    :Creator: Harrison, D. and Rubinfeld, D.L.\n",
      "\n",
      "This is a copy of UCI ML housing dataset.\n",
      "https://archive.ics.uci.edu/ml/machine-learning-databases/housing/\n",
      "\n",
      "\n",
      "This dataset was taken from the StatLib library which is maintained at Carnegie Mellon University.\n",
      "\n",
      "The Boston house-price data of Harrison, D. and Rubinfeld, D.L. 'Hedonic\n",
      "prices and the demand for clean air', J. Environ. Economics & Management,\n",
      "vol.5, 81-102, 1978.   Used in Belsley, Kuh & Welsch, 'Regression diagnostics\n",
      "...', Wiley, 1980.   N.B. Various transformations are used in the table on\n",
      "pages 244-261 of the latter.\n",
      "\n",
      "The Boston house-price data has been used in many machine learning papers that address regression\n",
      "problems.   \n",
      "     \n",
      ".. topic:: References\n",
      "\n",
      "   - Belsley, Kuh & Welsch, 'Regression diagnostics: Identifying Influential Data and Sources of Collinearity', Wiley, 1980. 244-261.\n",
      "   - Quinlan,R. (1993). Combining Instance-Based and Model-Based Learning. In Proceedings on the Tenth International Conference of Machine Learning, 236-243, University of Massachusetts, Amherst. Morgan Kaufmann.\n",
      "\n"
     ]
    },
    {
     "data": {
      "text/html": [
       "<div>\n",
       "<style scoped>\n",
       "    .dataframe tbody tr th:only-of-type {\n",
       "        vertical-align: middle;\n",
       "    }\n",
       "\n",
       "    .dataframe tbody tr th {\n",
       "        vertical-align: top;\n",
       "    }\n",
       "\n",
       "    .dataframe thead th {\n",
       "        text-align: right;\n",
       "    }\n",
       "</style>\n",
       "<table border=\"1\" class=\"dataframe\">\n",
       "  <thead>\n",
       "    <tr style=\"text-align: right;\">\n",
       "      <th></th>\n",
       "      <th>CRIM</th>\n",
       "      <th>ZN</th>\n",
       "      <th>INDUS</th>\n",
       "      <th>CHAS</th>\n",
       "      <th>NOX</th>\n",
       "      <th>RM</th>\n",
       "      <th>AGE</th>\n",
       "      <th>DIS</th>\n",
       "      <th>RAD</th>\n",
       "      <th>TAX</th>\n",
       "      <th>PTRATIO</th>\n",
       "      <th>B</th>\n",
       "      <th>LSTAT</th>\n",
       "      <th>MEDV</th>\n",
       "    </tr>\n",
       "  </thead>\n",
       "  <tbody>\n",
       "    <tr>\n",
       "      <th>CRIM</th>\n",
       "      <td>1.000000</td>\n",
       "      <td>-0.200469</td>\n",
       "      <td>0.406583</td>\n",
       "      <td>-0.055892</td>\n",
       "      <td>0.420972</td>\n",
       "      <td>-0.219247</td>\n",
       "      <td>0.352734</td>\n",
       "      <td>-0.379670</td>\n",
       "      <td>0.625505</td>\n",
       "      <td>0.582764</td>\n",
       "      <td>0.289946</td>\n",
       "      <td>-0.385064</td>\n",
       "      <td>0.455621</td>\n",
       "      <td>-0.388305</td>\n",
       "    </tr>\n",
       "    <tr>\n",
       "      <th>ZN</th>\n",
       "      <td>-0.200469</td>\n",
       "      <td>1.000000</td>\n",
       "      <td>-0.533828</td>\n",
       "      <td>-0.042697</td>\n",
       "      <td>-0.516604</td>\n",
       "      <td>0.311991</td>\n",
       "      <td>-0.569537</td>\n",
       "      <td>0.664408</td>\n",
       "      <td>-0.311948</td>\n",
       "      <td>-0.314563</td>\n",
       "      <td>-0.391679</td>\n",
       "      <td>0.175520</td>\n",
       "      <td>-0.412995</td>\n",
       "      <td>0.360445</td>\n",
       "    </tr>\n",
       "    <tr>\n",
       "      <th>INDUS</th>\n",
       "      <td>0.406583</td>\n",
       "      <td>-0.533828</td>\n",
       "      <td>1.000000</td>\n",
       "      <td>0.062938</td>\n",
       "      <td>0.763651</td>\n",
       "      <td>-0.391676</td>\n",
       "      <td>0.644779</td>\n",
       "      <td>-0.708027</td>\n",
       "      <td>0.595129</td>\n",
       "      <td>0.720760</td>\n",
       "      <td>0.383248</td>\n",
       "      <td>-0.356977</td>\n",
       "      <td>0.603800</td>\n",
       "      <td>-0.483725</td>\n",
       "    </tr>\n",
       "    <tr>\n",
       "      <th>CHAS</th>\n",
       "      <td>-0.055892</td>\n",
       "      <td>-0.042697</td>\n",
       "      <td>0.062938</td>\n",
       "      <td>1.000000</td>\n",
       "      <td>0.091203</td>\n",
       "      <td>0.091251</td>\n",
       "      <td>0.086518</td>\n",
       "      <td>-0.099176</td>\n",
       "      <td>-0.007368</td>\n",
       "      <td>-0.035587</td>\n",
       "      <td>-0.121515</td>\n",
       "      <td>0.048788</td>\n",
       "      <td>-0.053929</td>\n",
       "      <td>0.175260</td>\n",
       "    </tr>\n",
       "    <tr>\n",
       "      <th>NOX</th>\n",
       "      <td>0.420972</td>\n",
       "      <td>-0.516604</td>\n",
       "      <td>0.763651</td>\n",
       "      <td>0.091203</td>\n",
       "      <td>1.000000</td>\n",
       "      <td>-0.302188</td>\n",
       "      <td>0.731470</td>\n",
       "      <td>-0.769230</td>\n",
       "      <td>0.611441</td>\n",
       "      <td>0.668023</td>\n",
       "      <td>0.188933</td>\n",
       "      <td>-0.380051</td>\n",
       "      <td>0.590879</td>\n",
       "      <td>-0.427321</td>\n",
       "    </tr>\n",
       "    <tr>\n",
       "      <th>RM</th>\n",
       "      <td>-0.219247</td>\n",
       "      <td>0.311991</td>\n",
       "      <td>-0.391676</td>\n",
       "      <td>0.091251</td>\n",
       "      <td>-0.302188</td>\n",
       "      <td>1.000000</td>\n",
       "      <td>-0.240265</td>\n",
       "      <td>0.205246</td>\n",
       "      <td>-0.209847</td>\n",
       "      <td>-0.292048</td>\n",
       "      <td>-0.355501</td>\n",
       "      <td>0.128069</td>\n",
       "      <td>-0.613808</td>\n",
       "      <td>0.695360</td>\n",
       "    </tr>\n",
       "    <tr>\n",
       "      <th>AGE</th>\n",
       "      <td>0.352734</td>\n",
       "      <td>-0.569537</td>\n",
       "      <td>0.644779</td>\n",
       "      <td>0.086518</td>\n",
       "      <td>0.731470</td>\n",
       "      <td>-0.240265</td>\n",
       "      <td>1.000000</td>\n",
       "      <td>-0.747881</td>\n",
       "      <td>0.456022</td>\n",
       "      <td>0.506456</td>\n",
       "      <td>0.261515</td>\n",
       "      <td>-0.273534</td>\n",
       "      <td>0.602339</td>\n",
       "      <td>-0.376955</td>\n",
       "    </tr>\n",
       "    <tr>\n",
       "      <th>DIS</th>\n",
       "      <td>-0.379670</td>\n",
       "      <td>0.664408</td>\n",
       "      <td>-0.708027</td>\n",
       "      <td>-0.099176</td>\n",
       "      <td>-0.769230</td>\n",
       "      <td>0.205246</td>\n",
       "      <td>-0.747881</td>\n",
       "      <td>1.000000</td>\n",
       "      <td>-0.494588</td>\n",
       "      <td>-0.534432</td>\n",
       "      <td>-0.232471</td>\n",
       "      <td>0.291512</td>\n",
       "      <td>-0.496996</td>\n",
       "      <td>0.249929</td>\n",
       "    </tr>\n",
       "    <tr>\n",
       "      <th>RAD</th>\n",
       "      <td>0.625505</td>\n",
       "      <td>-0.311948</td>\n",
       "      <td>0.595129</td>\n",
       "      <td>-0.007368</td>\n",
       "      <td>0.611441</td>\n",
       "      <td>-0.209847</td>\n",
       "      <td>0.456022</td>\n",
       "      <td>-0.494588</td>\n",
       "      <td>1.000000</td>\n",
       "      <td>0.910228</td>\n",
       "      <td>0.464741</td>\n",
       "      <td>-0.444413</td>\n",
       "      <td>0.488676</td>\n",
       "      <td>-0.381626</td>\n",
       "    </tr>\n",
       "    <tr>\n",
       "      <th>TAX</th>\n",
       "      <td>0.582764</td>\n",
       "      <td>-0.314563</td>\n",
       "      <td>0.720760</td>\n",
       "      <td>-0.035587</td>\n",
       "      <td>0.668023</td>\n",
       "      <td>-0.292048</td>\n",
       "      <td>0.506456</td>\n",
       "      <td>-0.534432</td>\n",
       "      <td>0.910228</td>\n",
       "      <td>1.000000</td>\n",
       "      <td>0.460853</td>\n",
       "      <td>-0.441808</td>\n",
       "      <td>0.543993</td>\n",
       "      <td>-0.468536</td>\n",
       "    </tr>\n",
       "    <tr>\n",
       "      <th>PTRATIO</th>\n",
       "      <td>0.289946</td>\n",
       "      <td>-0.391679</td>\n",
       "      <td>0.383248</td>\n",
       "      <td>-0.121515</td>\n",
       "      <td>0.188933</td>\n",
       "      <td>-0.355501</td>\n",
       "      <td>0.261515</td>\n",
       "      <td>-0.232471</td>\n",
       "      <td>0.464741</td>\n",
       "      <td>0.460853</td>\n",
       "      <td>1.000000</td>\n",
       "      <td>-0.177383</td>\n",
       "      <td>0.374044</td>\n",
       "      <td>-0.507787</td>\n",
       "    </tr>\n",
       "    <tr>\n",
       "      <th>B</th>\n",
       "      <td>-0.385064</td>\n",
       "      <td>0.175520</td>\n",
       "      <td>-0.356977</td>\n",
       "      <td>0.048788</td>\n",
       "      <td>-0.380051</td>\n",
       "      <td>0.128069</td>\n",
       "      <td>-0.273534</td>\n",
       "      <td>0.291512</td>\n",
       "      <td>-0.444413</td>\n",
       "      <td>-0.441808</td>\n",
       "      <td>-0.177383</td>\n",
       "      <td>1.000000</td>\n",
       "      <td>-0.366087</td>\n",
       "      <td>0.333461</td>\n",
       "    </tr>\n",
       "    <tr>\n",
       "      <th>LSTAT</th>\n",
       "      <td>0.455621</td>\n",
       "      <td>-0.412995</td>\n",
       "      <td>0.603800</td>\n",
       "      <td>-0.053929</td>\n",
       "      <td>0.590879</td>\n",
       "      <td>-0.613808</td>\n",
       "      <td>0.602339</td>\n",
       "      <td>-0.496996</td>\n",
       "      <td>0.488676</td>\n",
       "      <td>0.543993</td>\n",
       "      <td>0.374044</td>\n",
       "      <td>-0.366087</td>\n",
       "      <td>1.000000</td>\n",
       "      <td>-0.737663</td>\n",
       "    </tr>\n",
       "    <tr>\n",
       "      <th>MEDV</th>\n",
       "      <td>-0.388305</td>\n",
       "      <td>0.360445</td>\n",
       "      <td>-0.483725</td>\n",
       "      <td>0.175260</td>\n",
       "      <td>-0.427321</td>\n",
       "      <td>0.695360</td>\n",
       "      <td>-0.376955</td>\n",
       "      <td>0.249929</td>\n",
       "      <td>-0.381626</td>\n",
       "      <td>-0.468536</td>\n",
       "      <td>-0.507787</td>\n",
       "      <td>0.333461</td>\n",
       "      <td>-0.737663</td>\n",
       "      <td>1.000000</td>\n",
       "    </tr>\n",
       "  </tbody>\n",
       "</table>\n",
       "</div>"
      ],
      "text/plain": [
       "             CRIM        ZN     INDUS      CHAS       NOX        RM       AGE  \\\n",
       "CRIM     1.000000 -0.200469  0.406583 -0.055892  0.420972 -0.219247  0.352734   \n",
       "ZN      -0.200469  1.000000 -0.533828 -0.042697 -0.516604  0.311991 -0.569537   \n",
       "INDUS    0.406583 -0.533828  1.000000  0.062938  0.763651 -0.391676  0.644779   \n",
       "CHAS    -0.055892 -0.042697  0.062938  1.000000  0.091203  0.091251  0.086518   \n",
       "NOX      0.420972 -0.516604  0.763651  0.091203  1.000000 -0.302188  0.731470   \n",
       "RM      -0.219247  0.311991 -0.391676  0.091251 -0.302188  1.000000 -0.240265   \n",
       "AGE      0.352734 -0.569537  0.644779  0.086518  0.731470 -0.240265  1.000000   \n",
       "DIS     -0.379670  0.664408 -0.708027 -0.099176 -0.769230  0.205246 -0.747881   \n",
       "RAD      0.625505 -0.311948  0.595129 -0.007368  0.611441 -0.209847  0.456022   \n",
       "TAX      0.582764 -0.314563  0.720760 -0.035587  0.668023 -0.292048  0.506456   \n",
       "PTRATIO  0.289946 -0.391679  0.383248 -0.121515  0.188933 -0.355501  0.261515   \n",
       "B       -0.385064  0.175520 -0.356977  0.048788 -0.380051  0.128069 -0.273534   \n",
       "LSTAT    0.455621 -0.412995  0.603800 -0.053929  0.590879 -0.613808  0.602339   \n",
       "MEDV    -0.388305  0.360445 -0.483725  0.175260 -0.427321  0.695360 -0.376955   \n",
       "\n",
       "              DIS       RAD       TAX   PTRATIO         B     LSTAT      MEDV  \n",
       "CRIM    -0.379670  0.625505  0.582764  0.289946 -0.385064  0.455621 -0.388305  \n",
       "ZN       0.664408 -0.311948 -0.314563 -0.391679  0.175520 -0.412995  0.360445  \n",
       "INDUS   -0.708027  0.595129  0.720760  0.383248 -0.356977  0.603800 -0.483725  \n",
       "CHAS    -0.099176 -0.007368 -0.035587 -0.121515  0.048788 -0.053929  0.175260  \n",
       "NOX     -0.769230  0.611441  0.668023  0.188933 -0.380051  0.590879 -0.427321  \n",
       "RM       0.205246 -0.209847 -0.292048 -0.355501  0.128069 -0.613808  0.695360  \n",
       "AGE     -0.747881  0.456022  0.506456  0.261515 -0.273534  0.602339 -0.376955  \n",
       "DIS      1.000000 -0.494588 -0.534432 -0.232471  0.291512 -0.496996  0.249929  \n",
       "RAD     -0.494588  1.000000  0.910228  0.464741 -0.444413  0.488676 -0.381626  \n",
       "TAX     -0.534432  0.910228  1.000000  0.460853 -0.441808  0.543993 -0.468536  \n",
       "PTRATIO -0.232471  0.464741  0.460853  1.000000 -0.177383  0.374044 -0.507787  \n",
       "B        0.291512 -0.444413 -0.441808 -0.177383  1.000000 -0.366087  0.333461  \n",
       "LSTAT   -0.496996  0.488676  0.543993  0.374044 -0.366087  1.000000 -0.737663  \n",
       "MEDV     0.249929 -0.381626 -0.468536 -0.507787  0.333461 -0.737663  1.000000  "
      ]
     },
     "execution_count": 2,
     "metadata": {},
     "output_type": "execute_result"
    }
   ],
   "source": [
    "pd_dataset.head()\n",
    "print(boston_dataset.DESCR)\n",
    "pd_dataset.corr()"
   ]
  },
  {
   "cell_type": "code",
   "execution_count": 3,
   "id": "fe7e2d67",
   "metadata": {},
   "outputs": [
    {
     "data": {
      "text/plain": [
       "<AxesSubplot: >"
      ]
     },
     "execution_count": 3,
     "metadata": {},
     "output_type": "execute_result"
    },
    {
     "data": {
      "image/png": "[encoded data removed]",
      "text/plain": [
       "<Figure size 432x288 with 2 Axes>"
      ]
     },
     "metadata": {
      "needs_background": "light"
     },
     "output_type": "display_data"
    }
   ],
   "source": [
    "import seaborn as sns\n",
    "sns.heatmap(pd_dataset.corr(), annot=True)"
   ]
  },
  {
   "cell_type": "markdown",
   "id": "fd59da07",
   "metadata": {},
   "source": [
    "- Dividing the data into training and testing sets\n",
    "- Adding a column of ones to the training and testing data to account for the bias term"
   ]
  },
  {
   "cell_type": "code",
   "execution_count": 4,
   "id": "af1fe082",
   "metadata": {},
   "outputs": [],
   "source": [
    "X_train, X_test, y_train, y_test = train_test_split(X, y, test_size=0.2, random_state=42)\n",
    "\n",
    "X_train = np.c_[np.ones(X_train.shape[0]), X_train]\n",
    "X_test = np.c_[np.ones(X_test.shape[0]), X_test]"
   ]
  },
  {
   "cell_type": "markdown",
   "id": "a7fbbb92",
   "metadata": {},
   "source": [
    "### Closed form solution (using normal equation) and K fold cross validation"
   ]
  },
  {
   "cell_type": "code",
   "execution_count": 5,
   "id": "826798c2",
   "metadata": {},
   "outputs": [
    {
     "name": "stdout",
     "output_type": "stream",
     "text": [
      "Average RMSE for training set: 4.853968178153343\n",
      "Average RMSE for testing set: 4.935826954499208\n"
     ]
    }
   ],
   "source": [
    "def closed_form_solution(X, y):\n",
    "    theta = np.linalg.inv(X.T.dot(X)).dot(X.T).dot(y)\n",
    "    return theta\n",
    "\n",
    "def rmse(y, y_pred):\n",
    "    rmse = np.sqrt(np.mean((y - y_pred)**2))\n",
    "    return rmse\n",
    "\n",
    "def predict(X, theta):\n",
    "    y_pred = X.dot(theta)\n",
    "    return y_pred\n",
    "\n",
    "kf = KFold(n_splits=10)\n",
    "kf.get_n_splits(pd_dataset)\n",
    "\n",
    "folds = []\n",
    "for train_index, test_index in kf.split(pd_dataset):\n",
    "    X_train, X_test = X[train_index], X[test_index]\n",
    "    y_train, y_test = y[train_index], y[test_index]\n",
    "    folds.append((X_train, X_test, y_train, y_test))\n",
    "\n",
    "test_rmse = []\n",
    "train_rmse = []\n",
    "for fold in folds:\n",
    "    X_train, X_test, y_train, y_test = fold\n",
    "    theta = closed_form_solution(X_train, y_train)\n",
    "    y_pred_test = predict(X_test,theta)\n",
    "    y_pred_train = predict(X_train,theta)\n",
    "    test_rmse.append(rmse(y_test, y_pred_test))\n",
    "    train_rmse.append(rmse(y_train, y_pred_train))\n",
    "\n",
    "print(f\"Average RMSE for training set: {np.mean(train_rmse)}\")\n",
    "print(f\"Average RMSE for testing set: {np.mean(test_rmse)}\")"
   ]
  },
  {
   "cell_type": "markdown",
   "id": "1a4dbc0c",
   "metadata": {},
   "source": [
    "### Ridge Regression Model and finding the best Lambda using K fold cross validation "
   ]
  },
  {
   "cell_type": "code",
   "execution_count": 6,
   "id": "6307527f",
   "metadata": {},
   "outputs": [
    {
     "name": "stdout",
     "output_type": "stream",
     "text": [
      "Best lambda: 10.0\n",
      "Average RMSE for training set: 4.867837310403628\n",
      "Average RMSE for testing set: 4.893415024223625\n"
     ]
    }
   ],
   "source": [
    "lam = np.logspace(1, 7, num=13)\n",
    "\n",
    "def ridge_regression(X, y, l):\n",
    "    theta = np.linalg.inv(X.T.dot(X) + l * np.identity(X.shape[1])).dot(X.T).dot(y)\n",
    "    return theta\n",
    "\n",
    "best_lam = 0\n",
    "error_dict = {}\n",
    "for l in lam:\n",
    "    test_rmse = []\n",
    "    train_rmse = []\n",
    "    for fold in folds:\n",
    "        X_train, X_test, y_train, y_test = fold\n",
    "        theta = ridge_regression(X_train, y_train, l)\n",
    "        y_pred_test = predict(X_test,theta)\n",
    "        y_pred_train = predict(X_train,theta)\n",
    "        test_rmse.append(rmse(y_test, y_pred_test))\n",
    "        train_rmse.append(rmse(y_train, y_pred_train))\n",
    "    error_dict[l] = (np.mean(test_rmse), np.mean(train_rmse))\n",
    "\n",
    "best_lam = min(error_dict, key=error_dict.get)\n",
    "print(f\"Best lambda: {best_lam}\")\n",
    "\n",
    "print(f\"Average RMSE for training set: {error_dict[best_lam][1]}\")\n",
    "print(f\"Average RMSE for testing set: {error_dict[best_lam][0]}\")\n",
    "\n"
   ]
  },
  {
   "cell_type": "markdown",
   "id": "839aa0fe",
   "metadata": {},
   "source": [
    "### Ridge Regression through Polynomial Transformation of degree 2"
   ]
  },
  {
   "cell_type": "code",
   "execution_count": 7,
   "id": "eb13359f",
   "metadata": {},
   "outputs": [
    {
     "name": "stdout",
     "output_type": "stream",
     "text": [
      "Best lambda: 1000000.0\n",
      "Average RMSE for training set: 4.601202347934759\n",
      "Average RMSE for testing set: 6.272786984866748\n"
     ]
    }
   ],
   "source": [
    "from sklearn.preprocessing import PolynomialFeatures\n",
    "poly = PolynomialFeatures(degree=2)\n",
    "X_poly = poly.fit_transform(X)\n",
    "\n",
    "X_train, X_test, y_train, y_test = train_test_split(X_poly, y, test_size=0.2, random_state=42)\n",
    "\n",
    "X_train = np.c_[np.ones(X_train.shape[0]), X_train]\n",
    "X_test = np.c_[np.ones(X_test.shape[0]), X_test]\n",
    "\n",
    "folds = []\n",
    "for train_index, test_index in kf.split(pd_dataset):\n",
    "    X_train, X_test = X_poly[train_index], X_poly[test_index]\n",
    "    y_train, y_test = y[train_index], y[test_index]\n",
    "    folds.append((X_train, X_test, y_train, y_test))\n",
    "\n",
    "for l in lam:\n",
    "    test_rmse = []\n",
    "    train_rmse = []\n",
    "    for fold in folds:\n",
    "        X_train, X_test, y_train, y_test = fold\n",
    "        theta = ridge_regression(X_train, y_train, l)\n",
    "        y_pred_test = predict(X_test,theta)\n",
    "        y_pred_train = predict(X_train,theta)\n",
    "        test_rmse.append(rmse(y_test, y_pred_test))\n",
    "        train_rmse.append(rmse(y_train, y_pred_train))\n",
    "    error_dict[l] = (np.mean(test_rmse), np.mean(train_rmse))\n",
    "\n",
    "best_lam = min(error_dict, key=error_dict.get)\n",
    "print(f\"Best lambda: {best_lam}\")\n",
    "\n",
    "print(f\"Average RMSE for training set: {np.mean(train_rmse)}\")\n",
    "print(f\"Average RMSE for testing set: {np.mean(test_rmse)}\")\n"
   ]
  },
  {
   "cell_type": "markdown",
   "id": "ad384532",
   "metadata": {},
   "source": [
    "### Multivariate Linear Regression using Gradient Descent "
   ]
  },
  {
   "cell_type": "code",
   "execution_count": 8,
   "id": "ee6a7a91",
   "metadata": {},
   "outputs": [
    {
     "name": "stdout",
     "output_type": "stream",
     "text": [
      "Average RMSE for training set: 4.605134632955023\n",
      "Average RMSE for testing set: 5.726817225736392\n"
     ]
    }
   ],
   "source": [
    "from matplotlib import pyplot as plt\n",
    "from sklearn.preprocessing import StandardScaler\n",
    "\n",
    "cost_list = []\n",
    "def gradient_descent(X, y, theta, alpha, iterations):\n",
    "    m = len(y)\n",
    "    for i in range(iterations):\n",
    "        y_pred = X.dot(theta)\n",
    "        error = y_pred - y\n",
    "        cost = np.sum((y_pred - y)**2)/m\n",
    "        cost_list.append(cost)\n",
    "        gradient = (2/m) * X.T.dot(error)\n",
    "        theta = theta - alpha * gradient\n",
    "    return theta\n",
    "\n",
    "scaler = StandardScaler()\n",
    "X_scaled = scaler.fit_transform(X)\n",
    "\n",
    "X_scaled = np.c_[np.ones(X_scaled.shape[0]), X_scaled]\n",
    "\n",
    "folds = []\n",
    "for train_index, test_index in kf.split(pd_dataset):\n",
    "    X_train, X_test = X_scaled[train_index], X_scaled[test_index]\n",
    "    y_train, y_test = y[train_index], y[test_index]\n",
    "    folds.append((X_train, X_test, y_train, y_test))\n",
    "\n",
    "for fold in folds:\n",
    "    X_train, X_test, y_train, y_test = fold\n",
    "    theta = gradient_descent(X_train, y_train, np.zeros(X_train.shape[1]), 0.1, 1000)\n",
    "    y_pred_test = predict(X_test,theta)\n",
    "    y_pred_train = predict(X_train,theta)\n",
    "    test_rmse.append(rmse(y_test, y_pred_test))\n",
    "    train_rmse.append(rmse(y_train, y_pred_train))\n",
    "\n",
    "print(f\"Average RMSE for training set: {np.mean(train_rmse)}\")\n",
    "print(f\"Average RMSE for testing set: {np.mean(test_rmse)}\")\n"
   ]
  },
  {
   "cell_type": "markdown",
   "id": "7442b659",
   "metadata": {},
   "source": [
    "### Gradient Descent with Ridge Regularization"
   ]
  },
  {
   "cell_type": "code",
   "execution_count": 9,
   "id": "bc18c92f",
   "metadata": {},
   "outputs": [
    {
     "name": "stdout",
     "output_type": "stream",
     "text": [
      "Average RMSE for training set: 4.66089394770241\n",
      "Average RMSE for testing set: 5.559992326789697\n"
     ]
    }
   ],
   "source": [
    "def gradient_descent_ridge(X, y, theta, alpha, iterations):\n",
    "    m = len(y)\n",
    "    for i in range(iterations):\n",
    "        y_pred = X.dot(theta)\n",
    "        error = y_pred - y\n",
    "        cost = np.sum((y_pred - y)**2)/m\n",
    "        cost_list.append(cost)\n",
    "        gradient = (2/m) * X.T.dot(error) + (alpha * theta)\n",
    "        theta = theta - alpha * gradient\n",
    "    return theta\n",
    "\n",
    "scaler = StandardScaler()\n",
    "X_scaled = scaler.fit_transform(X)\n",
    "\n",
    "X_scaled = np.c_[np.ones(X_scaled.shape[0]), X_scaled]\n",
    "\n",
    "folds = []\n",
    "for train_index, test_index in kf.split(pd_dataset):\n",
    "    X_train, X_test = X_scaled[train_index], X_scaled[test_index]\n",
    "    y_train, y_test = y[train_index], y[test_index]\n",
    "    folds.append((X_train, X_test, y_train, y_test))\n",
    "\n",
    "alpha = 0.1\n",
    "iterations = 1000\n",
    "\n",
    "for fold in folds:\n",
    "    X_train, X_test, y_train, y_test = fold\n",
    "    theta = gradient_descent_ridge(X_train, y_train, np.random.rand(X_train.shape[1]), alpha, iterations)\n",
    "    y_pred_test = predict(X_test,theta)\n",
    "    y_pred_train = predict(X_train,theta)\n",
    "    test_rmse.append(rmse(y_test, y_pred_test))\n",
    "    train_rmse.append(rmse(y_train, y_pred_train))\n",
    "\n",
    "print(f\"Average RMSE for training set: {np.mean(train_rmse)}\")\n",
    "print(f\"Average RMSE for testing set: {np.mean(test_rmse)}\")\n",
    "\n"
   ]
  },
  {
   "cell_type": "markdown",
   "id": "fad46c13",
   "metadata": {},
   "source": [
    "### Gradient Descent with Lasso Regularization"
   ]
  },
  {
   "cell_type": "code",
   "execution_count": 10,
   "id": "93bb1071",
   "metadata": {},
   "outputs": [
    {
     "name": "stdout",
     "output_type": "stream",
     "text": [
      "Average RMSE for training set: 4.6516054915838065\n",
      "Average RMSE for testing set: 5.4451352771730495\n"
     ]
    }
   ],
   "source": [
    "def gradient_descent_lasso(X, y, theta, alpha, iterations):\n",
    "    m = len(y)\n",
    "    for i in range(iterations):\n",
    "        y_pred = X.dot(theta)\n",
    "        error = y_pred - y\n",
    "        cost = np.sum((y_pred - y)**2)/m\n",
    "        cost_list.append(cost)\n",
    "        gradient = (2/m) * X.T.dot(error) + (alpha * np.sign(theta))\n",
    "        theta = theta - alpha * gradient\n",
    "    return theta\n",
    "\n",
    "scaler = StandardScaler()\n",
    "X_scaled = scaler.fit_transform(X)\n",
    "\n",
    "X_scaled = np.c_[np.ones(X_scaled.shape[0]), X_scaled]\n",
    "\n",
    "folds = []\n",
    "for train_index, test_index in kf.split(pd_dataset):\n",
    "    X_train, X_test = X_scaled[train_index], X_scaled[test_index]\n",
    "    y_train, y_test = y[train_index], y[test_index]\n",
    "    folds.append((X_train, X_test, y_train, y_test))\n",
    "\n",
    "alpha = 0.1\n",
    "iterations = 1000\n",
    "\n",
    "for fold in folds:\n",
    "    X_train, X_test, y_train, y_test = fold\n",
    "    theta = gradient_descent_lasso(X_train, y_train, np.random.rand(X_train.shape[1]), alpha, iterations)\n",
    "    y_pred_test = predict(X_test,theta)\n",
    "    y_pred_train = predict(X_train,theta)\n",
    "    test_rmse.append(rmse(y_test, y_pred_test))\n",
    "    train_rmse.append(rmse(y_train, y_pred_train))\n",
    "\n",
    "print(f\"Average RMSE for training set: {np.mean(train_rmse)}\")\n",
    "print(f\"Average RMSE for testing set: {np.mean(test_rmse)}\")\n"
   ]
  },
  {
   "cell_type": "markdown",
   "id": "767da6be",
   "metadata": {},
   "source": [
    "### Gradient Descent with Elastic Net Regularization"
   ]
  },
  {
   "cell_type": "code",
   "execution_count": 11,
   "id": "c8b920fb",
   "metadata": {},
   "outputs": [
    {
     "name": "stdout",
     "output_type": "stream",
     "text": [
      "Average RMSE for training set: 4.68423390887199\n",
      "Average RMSE for testing set: 5.397912043403304\n"
     ]
    }
   ],
   "source": [
    "def gradient_descent_elastic(X, y, theta, alpha, iterations):\n",
    "    m = len(y)\n",
    "    for i in range(iterations):\n",
    "        y_pred = X.dot(theta)\n",
    "        error = y_pred - y\n",
    "        cost = np.sum((y_pred - y)**2)/m\n",
    "        cost_list.append(cost)\n",
    "        gradient = (2/m) * X.T.dot(error) + (alpha * np.sign(theta)) + (alpha * theta) \n",
    "        theta = theta - alpha * gradient\n",
    "    return theta\n",
    "\n",
    "scaler = StandardScaler()\n",
    "X_scaled = scaler.fit_transform(X)\n",
    "\n",
    "X_scaled = np.c_[np.ones(X_scaled.shape[0]), X_scaled]\n",
    "\n",
    "folds = []\n",
    "for train_index, test_index in kf.split(pd_dataset):\n",
    "    X_train, X_test = X_scaled[train_index], X_scaled[test_index]\n",
    "    y_train, y_test = y[train_index], y[test_index]\n",
    "    folds.append((X_train, X_test, y_train, y_test))\n",
    "    \n",
    "alpha = 0.1\n",
    "iterations = 1000\n",
    "\n",
    "for fold in folds:\n",
    "    X_train, X_test, y_train, y_test = fold\n",
    "    theta = gradient_descent_elastic(X_train, y_train, np.random.rand(X_train.shape[1]), alpha, iterations)\n",
    "    y_pred_test = predict(X_test,theta)\n",
    "    y_pred_train = predict(X_train,theta)\n",
    "    test_rmse.append(rmse(y_test, y_pred_test))\n",
    "    train_rmse.append(rmse(y_train, y_pred_train))\n",
    "\n",
    "print(f\"Average RMSE for training set: {np.mean(train_rmse)}\")\n",
    "print(f\"Average RMSE for testing set: {np.mean(test_rmse)}\")\n"
   ]
  },
  {
   "cell_type": "markdown",
   "id": "242068b9",
   "metadata": {},
   "source": [
    "### Conclusions \n",
    "\n",
    "After comparing the performance of the different models, (and mathematically...) it is clear that the best model is the one that uses the closed form solution with the normal equation. This is because it has the lowest mean squared error and the lowest variance.\n",
    "\n",
    "Although there can be slight variations in the RMSE, this can be due to certain biases in the training, testing and validation sets."
   ]
  },
  {
   "cell_type": "markdown",
   "id": "77399886",
   "metadata": {},
   "source": [
    "## Part B : Logistic Regression"
   ]
  },
  {
   "cell_type": "markdown",
   "id": "dcda7b4b",
   "metadata": {},
   "source": [
    "### Loading the dataset and libraries"
   ]
  },
  {
   "cell_type": "code",
   "execution_count": 12,
   "id": "97573ac0",
   "metadata": {},
   "outputs": [],
   "source": [
    "import warnings\n",
    "import pandas as pd\n",
    "import numpy as np\n",
    "from sklearn.linear_model import LogisticRegression\n",
    "from sklearn.model_selection import train_test_split\n",
    "from sklearn.metrics import confusion_matrix\n",
    "from sklearn.preprocessing import StandardScaler\n",
    "import matplotlib.pyplot as plt\n",
    "from sklearn.metrics import precision_score, recall_score\n",
    "warnings.filterwarnings('ignore')\n",
    "from sklearn.datasets import load_breast_cancer\n",
    "cancer = load_breast_cancer()\n",
    "\n",
    "df = pd.DataFrame(cancer.data, columns=cancer.feature_names)\n",
    "df['target'] = cancer.target"
   ]
  },
  {
   "cell_type": "markdown",
   "id": "73c4c13c",
   "metadata": {},
   "source": [
    "### Exploring the dataset"
   ]
  },
  {
   "cell_type": "code",
   "execution_count": 13,
   "id": "907109d0",
   "metadata": {},
   "outputs": [
    {
     "name": "stdout",
     "output_type": "stream",
     "text": [
      ".. _breast_cancer_dataset:\n",
      "\n",
      "Breast cancer wisconsin (diagnostic) dataset\n",
      "--------------------------------------------\n",
      "\n",
      "**Data Set Characteristics:**\n",
      "\n",
      "    :Number of Instances: 569\n",
      "\n",
      "    :Number of Attributes: 30 numeric, predictive attributes and the class\n",
      "\n",
      "    :Attribute Information:\n",
      "        - radius (mean of distances from center to points on the perimeter)\n",
      "        - texture (standard deviation of gray-scale values)\n",
      "        - perimeter\n",
      "        - area\n",
      "        - smoothness (local variation in radius lengths)\n",
      "        - compactness (perimeter^2 / area - 1.0)\n",
      "        - concavity (severity of concave portions of the contour)\n",
      "        - concave points (number of concave portions of the contour)\n",
      "        - symmetry\n",
      "        - fractal dimension (\"coastline approximation\" - 1)\n",
      "\n",
      "        The mean, standard error, and \"worst\" or largest (mean of the three\n",
      "        worst/largest values) of these features were computed for each image,\n",
      "        resulting in 30 features.  For instance, field 0 is Mean Radius, field\n",
      "        10 is Radius SE, field 20 is Worst Radius.\n",
      "\n",
      "        - class:\n",
      "                - WDBC-Malignant\n",
      "                - WDBC-Benign\n",
      "\n",
      "    :Summary Statistics:\n",
      "\n",
      "    ===================================== ====== ======\n",
      "                                           Min    Max\n",
      "    ===================================== ====== ======\n",
      "    radius (mean):                        6.981  28.11\n",
      "    texture (mean):                       9.71   39.28\n",
      "    perimeter (mean):                     43.79  188.5\n",
      "    area (mean):                          143.5  2501.0\n",
      "    smoothness (mean):                    0.053  0.163\n",
      "    compactness (mean):                   0.019  0.345\n",
      "    concavity (mean):                     0.0    0.427\n",
      "    concave points (mean):                0.0    0.201\n",
      "    symmetry (mean):                      0.106  0.304\n",
      "    fractal dimension (mean):             0.05   0.097\n",
      "    radius (standard error):              0.112  2.873\n",
      "    texture (standard error):             0.36   4.885\n",
      "    perimeter (standard error):           0.757  21.98\n",
      "    area (standard error):                6.802  542.2\n",
      "    smoothness (standard error):          0.002  0.031\n",
      "    compactness (standard error):         0.002  0.135\n",
      "    concavity (standard error):           0.0    0.396\n",
      "    concave points (standard error):      0.0    0.053\n",
      "    symmetry (standard error):            0.008  0.079\n",
      "    fractal dimension (standard error):   0.001  0.03\n",
      "    radius (worst):                       7.93   36.04\n",
      "    texture (worst):                      12.02  49.54\n",
      "    perimeter (worst):                    50.41  251.2\n",
      "    area (worst):                         185.2  4254.0\n",
      "    smoothness (worst):                   0.071  0.223\n",
      "    compactness (worst):                  0.027  1.058\n",
      "    concavity (worst):                    0.0    1.252\n",
      "    concave points (worst):               0.0    0.291\n",
      "    symmetry (worst):                     0.156  0.664\n",
      "    fractal dimension (worst):            0.055  0.208\n",
      "    ===================================== ====== ======\n",
      "\n",
      "    :Missing Attribute Values: None\n",
      "\n",
      "    :Class Distribution: 212 - Malignant, 357 - Benign\n",
      "\n",
      "    :Creator:  Dr. William H. Wolberg, W. Nick Street, Olvi L. Mangasarian\n",
      "\n",
      "    :Donor: Nick Street\n",
      "\n",
      "    :Date: November, 1995\n",
      "\n",
      "This is a copy of UCI ML Breast Cancer Wisconsin (Diagnostic) datasets.\n",
      "https://goo.gl/U2Uwz2\n",
      "\n",
      "Features are computed from a digitized image of a fine needle\n",
      "aspirate (FNA) of a breast mass.  They describe\n",
      "characteristics of the cell nuclei present in the image.\n",
      "\n",
      "Separating plane described above was obtained using\n",
      "Multisurface Method-Tree (MSM-T) [K. P. Bennett, \"Decision Tree\n",
      "Construction Via Linear Programming.\" Proceedings of the 4th\n",
      "Midwest Artificial Intelligence and Cognitive Science Society,\n",
      "pp. 97-101, 1992], a classification method which uses linear\n",
      "programming to construct a decision tree.  Relevant features\n",
      "were selected using an exhaustive search in the space of 1-4\n",
      "features and 1-3 separating planes.\n",
      "\n",
      "The actual linear program used to obtain the separating plane\n",
      "in the 3-dimensional space is that described in:\n",
      "[K. P. Bennett and O. L. Mangasarian: \"Robust Linear\n",
      "Programming Discrimination of Two Linearly Inseparable Sets\",\n",
      "Optimization Methods and Software 1, 1992, 23-34].\n",
      "\n",
      "This database is also available through the UW CS ftp server:\n",
      "\n",
      "ftp ftp.cs.wisc.edu\n",
      "cd math-prog/cpo-dataset/machine-learn/WDBC/\n",
      "\n",
      ".. topic:: References\n",
      "\n",
      "   - W.N. Street, W.H. Wolberg and O.L. Mangasarian. Nuclear feature extraction \n",
      "     for breast tumor diagnosis. IS&T/SPIE 1993 International Symposium on \n",
      "     Electronic Imaging: Science and Technology, volume 1905, pages 861-870,\n",
      "     San Jose, CA, 1993.\n",
      "   - O.L. Mangasarian, W.N. Street and W.H. Wolberg. Breast cancer diagnosis and \n",
      "     prognosis via linear programming. Operations Research, 43(4), pages 570-577, \n",
      "     July-August 1995.\n",
      "   - W.H. Wolberg, W.N. Street, and O.L. Mangasarian. Machine learning techniques\n",
      "     to diagnose breast cancer from fine-needle aspirates. Cancer Letters 77 (1994) \n",
      "     163-171.\n",
      "1    357\n",
      "0    212\n",
      "Name: target, dtype: int64\n",
      "       mean radius  mean texture  mean perimeter    mean area  \\\n",
      "count   569.000000    569.000000      569.000000   569.000000   \n",
      "mean     14.127292     19.289649       91.969033   654.889104   \n",
      "std       3.524049      4.301036       24.298981   351.914129   \n",
      "min       6.981000      9.710000       43.790000   143.500000   \n",
      "25%      11.700000     16.170000       75.170000   420.300000   \n",
      "50%      13.370000     18.840000       86.240000   551.100000   \n",
      "75%      15.780000     21.800000      104.100000   782.700000   \n",
      "max      28.110000     39.280000      188.500000  2501.000000   \n",
      "\n",
      "       mean smoothness  mean compactness  mean concavity  mean concave points  \\\n",
      "count       569.000000        569.000000      569.000000           569.000000   \n",
      "mean          0.096360          0.104341        0.088799             0.048919   \n",
      "std           0.014064          0.052813        0.079720             0.038803   \n",
      "min           0.052630          0.019380        0.000000             0.000000   \n",
      "25%           0.086370          0.064920        0.029560             0.020310   \n",
      "50%           0.095870          0.092630        0.061540             0.033500   \n",
      "75%           0.105300          0.130400        0.130700             0.074000   \n",
      "max           0.163400          0.345400        0.426800             0.201200   \n",
      "\n",
      "       mean symmetry  mean fractal dimension  ...  worst texture  \\\n",
      "count     569.000000              569.000000  ...     569.000000   \n",
      "mean        0.181162                0.062798  ...      25.677223   \n",
      "std         0.027414                0.007060  ...       6.146258   \n",
      "min         0.106000                0.049960  ...      12.020000   \n",
      "25%         0.161900                0.057700  ...      21.080000   \n",
      "50%         0.179200                0.061540  ...      25.410000   \n",
      "75%         0.195700                0.066120  ...      29.720000   \n",
      "max         0.304000                0.097440  ...      49.540000   \n",
      "\n",
      "       worst perimeter   worst area  worst smoothness  worst compactness  \\\n",
      "count       569.000000   569.000000        569.000000         569.000000   \n",
      "mean        107.261213   880.583128          0.132369           0.254265   \n",
      "std          33.602542   569.356993          0.022832           0.157336   \n",
      "min          50.410000   185.200000          0.071170           0.027290   \n",
      "25%          84.110000   515.300000          0.116600           0.147200   \n",
      "50%          97.660000   686.500000          0.131300           0.211900   \n",
      "75%         125.400000  1084.000000          0.146000           0.339100   \n",
      "max         251.200000  4254.000000          0.222600           1.058000   \n",
      "\n",
      "       worst concavity  worst concave points  worst symmetry  \\\n",
      "count       569.000000            569.000000      569.000000   \n",
      "mean          0.272188              0.114606        0.290076   \n",
      "std           0.208624              0.065732        0.061867   \n",
      "min           0.000000              0.000000        0.156500   \n",
      "25%           0.114500              0.064930        0.250400   \n",
      "50%           0.226700              0.099930        0.282200   \n",
      "75%           0.382900              0.161400        0.317900   \n",
      "max           1.252000              0.291000        0.663800   \n",
      "\n",
      "       worst fractal dimension      target  \n",
      "count               569.000000  569.000000  \n",
      "mean                  0.083946    0.627417  \n",
      "std                   0.018061    0.483918  \n",
      "min                   0.055040    0.000000  \n",
      "25%                   0.071460    0.000000  \n",
      "50%                   0.080040    1.000000  \n",
      "75%                   0.092080    1.000000  \n",
      "max                   0.207500    1.000000  \n",
      "\n",
      "[8 rows x 31 columns]\n"
     ]
    }
   ],
   "source": [
    "print(cancer.DESCR)\n",
    "print(df['target'].value_counts())\n",
    "print(df.describe())"
   ]
  },
  {
   "cell_type": "markdown",
   "id": "2d440e6d",
   "metadata": {},
   "source": [
    "### Using Gradient Descent to find optimal weights"
   ]
  },
  {
   "cell_type": "code",
   "execution_count": 14,
   "id": "c806b25e",
   "metadata": {},
   "outputs": [],
   "source": [
    "eps = 0.000001 # to avoid log(0) and prevent overflow error\n",
    "def multiple_logistic_regression(X, y, learningrate, num_iters, logging = True):  \n",
    "    theta = np.random.rand(X.shape[1])\n",
    "    m = len(y)\n",
    "    cost = [] \n",
    "    for i in range(num_iters):\n",
    "        h = 1 / (1 + np.exp(-np.dot(X, theta))) \n",
    "        J = (-1 / m) * np.sum(y * np.log(h + eps) + (1 - y) * np.log(1 - h + eps))\n",
    "        if logging and i % 500 == 0:\n",
    "            print(\"Cost after iteration %i: %f\" % (i, J))\n",
    "        gradient = (1 / m) * np.dot(X.T, (h - y))\n",
    "        theta = theta - learningrate * gradient\n",
    "        cost.append(J)\n",
    "    return theta, cost\n"
   ]
  },
  {
   "cell_type": "code",
   "execution_count": 15,
   "id": "3664c5be",
   "metadata": {},
   "outputs": [
    {
     "name": "stdout",
     "output_type": "stream",
     "text": [
      "Cost after iteration 0: 6.564915\n",
      "Cost after iteration 500: 0.051416\n",
      "Cost after iteration 1000: 0.047453\n",
      "Cost after iteration 1500: 0.045298\n",
      "Cost after iteration 2000: 0.043789\n",
      "Cost after iteration 2500: 0.042624\n",
      "Cost after iteration 3000: 0.041674\n",
      "Cost after iteration 3500: 0.040873\n",
      "Cost after iteration 4000: 0.040181\n",
      "Cost after iteration 4500: 0.039572\n"
     ]
    }
   ],
   "source": [
    "X_train, X_test, y_train, y_test = train_test_split(df.drop('target', axis=1), df['target'], test_size=0.2, random_state=69)\n",
    "\n",
    "scaler = StandardScaler()\n",
    "X_train = scaler.fit_transform(X_train)\n",
    "X_test = scaler.transform(X_test)\n",
    "\n",
    "X_train = np.c_[np.ones(X_train.shape[0]), X_train]\n",
    "X_test = np.c_[np.ones(X_test.shape[0]), X_test]\n",
    "\n",
    "threshold = 0.5\n",
    "learningrate = 0.5\n",
    "num_iters = 5000\n",
    "theta, cost = multiple_logistic_regression(X_train, y_train, learningrate, num_iters)\n"
   ]
  },
  {
   "cell_type": "markdown",
   "id": "026bea0f",
   "metadata": {},
   "source": [
    "### Coefficients of the model"
   ]
  },
  {
   "cell_type": "code",
   "execution_count": 16,
   "id": "2b767467",
   "metadata": {},
   "outputs": [
    {
     "name": "stdout",
     "output_type": "stream",
     "text": [
      "Coefficients: \n",
      " [ 0.10586032 -0.1213931  -0.38465657  0.77837476  0.14535169 -0.92207414\n",
      "  1.38624736 -1.7822701  -2.03536892  0.34310426  0.44811373 -3.62837355\n",
      "  0.64824141 -0.76700776 -3.02916048 -0.33479828  0.73813486  0.24102135\n",
      " -0.51739437  0.55748703  1.66642166 -2.00837407 -2.14628594 -0.85080943\n",
      " -2.4051629  -0.040632   -0.24966029 -1.05047067 -1.79480257 -0.4964792\n",
      " -1.63858793]\n"
     ]
    },
    {
     "data": {
      "image/png": "[encoded data removed]",
      "text/plain": [
       "<Figure size 720x432 with 1 Axes>"
      ]
     },
     "metadata": {
      "needs_background": "light"
     },
     "output_type": "display_data"
    }
   ],
   "source": [
    "print(\"Coefficients: \\n\", theta)\n",
    "\n",
    "plt.figure(figsize=(10, 6))\n",
    "plt.plot(theta[1:], 'o')\n",
    "plt.xticks(range(len(cancer.feature_names)), cancer.feature_names, rotation=90)\n",
    "plt.ylabel('Coefficients')\n",
    "plt.show()\n"
   ]
  },
  {
   "cell_type": "markdown",
   "id": "7b8da8d4",
   "metadata": {},
   "source": [
    "### Evaluating the model\n",
    "- Precision\n",
    "- Recall\n",
    "- F1 Score\n",
    "- Confusion Matrix"
   ]
  },
  {
   "cell_type": "code",
   "execution_count": 17,
   "id": "5a3bcd36",
   "metadata": {},
   "outputs": [
    {
     "name": "stdout",
     "output_type": "stream",
     "text": [
      "Precision from scratch:  0.9508196721311475\n",
      "Recall from scratch:  0.9666666666666667\n"
     ]
    },
    {
     "data": {
      "image/png": "[encoded data removed]",
      "text/plain": [
       "<Figure size 360x360 with 1 Axes>"
      ]
     },
     "metadata": {
      "needs_background": "light"
     },
     "output_type": "display_data"
    }
   ],
   "source": [
    "y_pred = 1 / (1 + np.exp(-np.dot(X_test, theta)))\n",
    "y_pred = [1 if i > threshold else 0 for i in y_pred]\n",
    "\n",
    "y_pred = np.array(y_pred)\n",
    "y_test = np.array(y_test)\n",
    "# y_pred.shape, y_test.shape\n",
    "\n",
    "# find the number of true positives, true negatives, false positives, and false negatives\n",
    "def confusion_matrix_values(y_true, y_pred):\n",
    "    tp = 0\n",
    "    tn = 0\n",
    "    fp = 0\n",
    "    fn = 0\n",
    "    for i in range(len(y_true)):\n",
    "        if y_true[i] == 1 and y_pred[i] == 1:\n",
    "            tp += 1\n",
    "        if y_true[i] == 0 and y_pred[i] == 0:\n",
    "            tn += 1\n",
    "        if y_true[i] == 0 and y_pred[i] == 1:\n",
    "            fp += 1\n",
    "        if y_true[i] == 1 and y_pred[i] == 0:\n",
    "            fn += 1\n",
    "    return tp, tn, fp, fn\n",
    "\n",
    "# calculate precision\n",
    "def precision(y_true, y_pred):\n",
    "    tp, tn, fp, fn = confusion_matrix_values(y_true, y_pred)\n",
    "    return tp / (tp + fp)\n",
    "\n",
    "# calculate recall\n",
    "def recall(y_true, y_pred):\n",
    "    tp, tn, fp, fn = confusion_matrix_values(y_true, y_pred)\n",
    "    return tp / (tp + fn)\n",
    "\n",
    "# calculate precision and recall scores for the model\n",
    "print(\"Precision from scratch: \", precision(y_test, y_pred))\n",
    "print(\"Recall from scratch: \", recall(y_test, y_pred))\n",
    "\n",
    "fig, ax = plt.subplots(figsize=(5, 5))\n",
    "ax.matshow(confusion_matrix(y_test, y_pred), cmap=plt.cm.Blues, alpha=0.3)\n",
    "for i in range(confusion_matrix(y_test, y_pred).shape[0]):\n",
    "    for j in range(confusion_matrix(y_test, y_pred).shape[1]):\n",
    "        ax.text(x=j, y=i, s=confusion_matrix(y_test, y_pred)[i, j], va='center', ha='center')\n",
    "plt.xlabel('Predicted label')\n",
    "plt.ylabel('True label')\n",
    "plt.show()\n"
   ]
  },
  {
   "cell_type": "markdown",
   "id": "19204553",
   "metadata": {},
   "source": [
    "### Log-likelihood and Cost Function Plots"
   ]
  },
  {
   "cell_type": "code",
   "execution_count": 18,
   "id": "df7e1fc6",
   "metadata": {},
   "outputs": [
    {
     "data": {
      "image/png": "[encoded data removed]",
      "text/plain": [
       "<Figure size 432x288 with 1 Axes>"
      ]
     },
     "metadata": {
      "needs_background": "light"
     },
     "output_type": "display_data"
    },
    {
     "data": {
      "image/png": "[encoded data removed]",
      "text/plain": [
       "<Figure size 432x288 with 1 Axes>"
      ]
     },
     "metadata": {
      "needs_background": "light"
     },
     "output_type": "display_data"
    }
   ],
   "source": [
    "plt.plot(cost)\n",
    "plt.xlabel(\"Number of iterations\")\n",
    "plt.ylabel(\"Cost\")\n",
    "plt.show()\n",
    "\n",
    "plt.plot(np.log(cost))\n",
    "plt.xlabel(\"Number of iterations\")\n",
    "plt.ylabel(\"Log likelihood\")\n",
    "plt.show()\n"
   ]
  },
  {
   "cell_type": "markdown",
   "id": "e58ca490",
   "metadata": {},
   "source": [
    "### Conclusions"
   ]
  },
  {
   "cell_type": "code",
   "execution_count": 19,
   "id": "b9b0ac06",
   "metadata": {},
   "outputs": [
    {
     "name": "stdout",
     "output_type": "stream",
     "text": [
      "\n",
      "threshold: 0.5, learningrate: 0.0001, num_iters: 5000\n",
      "F1 Score:  0.3548387096774193\n",
      "\n",
      "threshold: 0.5, learningrate: 1, num_iters: 5000\n",
      "F1 Score:  0.9586776859504132\n",
      "\n",
      "threshold: 0.5, learningrate: 0.0001, num_iters: 50000\n",
      "F1 Score:  0.9500000000000001\n",
      "\n",
      "threshold: 0.5, learningrate: 1, num_iters: 50000\n",
      "F1 Score:  0.9586776859504132\n"
     ]
    }
   ],
   "source": [
    "def y_pred(X, theta, threshold):\n",
    "    y_pred = 1 / (1 + np.exp(-np.dot(X, theta)))\n",
    "    y_pred = [1 if i > threshold else 0 for i in y_pred]\n",
    "    return y_pred\n",
    "\n",
    "threshold = 0.5\n",
    "learningrate = 0.0001\n",
    "num_iters = 5000\n",
    "theta, cost = multiple_logistic_regression(X_train, y_train, learningrate, num_iters, False)\n",
    "print(f\"\\nthreshold: {threshold}, learningrate: {learningrate}, num_iters: {num_iters}\")\n",
    "print(\"F1 Score: \", 2 * precision_score(y_test, y_pred(X_test, theta, threshold)) * recall_score(y_test, y_pred(X_test, theta, threshold)) / (precision_score(y_test, y_pred(X_test, theta, threshold)) + recall_score(y_test, y_pred(X_test, theta, threshold))))\n",
    "\n",
    "threshold = 0.5\n",
    "learningrate = 1\n",
    "num_iters = 5000\n",
    "print(f\"\\nthreshold: {threshold}, learningrate: {learningrate}, num_iters: {num_iters}\")\n",
    "theta, cost = multiple_logistic_regression(X_train, y_train, learningrate, num_iters, False)\n",
    "print(\"F1 Score: \", 2 * precision_score(y_test, y_pred(X_test, theta, threshold)) * recall_score(y_test, y_pred(X_test, theta, threshold)) / (precision_score(y_test, y_pred(X_test, theta, threshold)) + recall_score(y_test, y_pred(X_test, theta, threshold))))\n",
    "\n",
    "\n",
    "threshold = 0.5\n",
    "learningrate = 0.0001\n",
    "num_iters = 50000\n",
    "print(f\"\\nthreshold: {threshold}, learningrate: {learningrate}, num_iters: {num_iters}\")\n",
    "theta, cost = multiple_logistic_regression(X_train, y_train, learningrate, num_iters, False)\n",
    "print(\"F1 Score: \", 2 * precision_score(y_test, y_pred(X_test, theta, threshold)) * recall_score(y_test, y_pred(X_test, theta, threshold)) / (precision_score(y_test, y_pred(X_test, theta, threshold)) + recall_score(y_test, y_pred(X_test, theta, threshold))))\n",
    "\n",
    "\n",
    "threshold = 0.5\n",
    "learningrate = 1\n",
    "num_iters = 50000\n",
    "print(f\"\\nthreshold: {threshold}, learningrate: {learningrate}, num_iters: {num_iters}\")\n",
    "theta, cost = multiple_logistic_regression(X_train, y_train, learningrate, num_iters, False)\n",
    "print(\"F1 Score: \", 2 * precision_score(y_test, y_pred(X_test, theta, threshold)) * recall_score(y_test, y_pred(X_test, theta, threshold)) / (precision_score(y_test, y_pred(X_test, theta, threshold)) + recall_score(y_test, y_pred(X_test, theta, threshold))))\n"
   ]
  },
  {
   "cell_type": "markdown",
   "id": "46e42bc4",
   "metadata": {},
   "source": [
    "From the above, it is clear that it would be best to use a high learning rate and a high number of iterations to get the best results. This is because the cost function converges to a minimum after a certain number of iterations. \n",
    "\n",
    "Since the function is convex, it is guaranteed to converge to a global minimum. So, the best results are obtained when the number of iterations is high enough to reach the global minimum - though this can be computationally expensive. While a higher learning rate helps reach the global minimum faster in this case. "
   ]
  },
  {
   "cell_type": "markdown",
   "id": "c78f88ed",
   "metadata": {},
   "source": []
  }
 ],
 "metadata": {
  "kernelspec": {
   "display_name": "Python 3 (ipykernel)",
   "language": "python",
   "name": "python3"
  },
  "language_info": {
   "codemirror_mode": {
    "name": "ipython",
    "version": 3
   },
   "file_extension": ".py",
   "mimetype": "text/x-python",
   "name": "python",
   "nbconvert_exporter": "python",
   "pygments_lexer": "ipython3",
   "version": "3.9.12"
  },
  "vscode": {
   "interpreter": {
    "hash": "c521ae397b597c91e2dec1b4d096569d5ec93d5cf132e2e565de1cde8e2dbae0"
   }
  }
 },
 "nbformat": 4,
 "nbformat_minor": 5
}
