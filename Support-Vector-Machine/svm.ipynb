{
 "cells": [
  {
   "attachments": {},
   "cell_type": "markdown",
   "metadata": {},
   "source": [
    "# MiniProject 2: SVM for Classification\n",
    "### How to run this notebook\n",
    "- **Run all cells in order using _\"Run All\"_ in the Cell menu**\n",
    "- If you wish to re-run a cell, you must re-run all cells in order after restarting the kernel\n",
    "\n",
    "- In certain cases, if the output of a cell is too large, you can click the _\"Open full output data in text editor\"_ button to view it. \n",
    "\n",
    "- *If any cell returns an error, pressing restart and re-running all cells in order should fix it.*"
   ]
  },
  {
   "attachments": {},
   "cell_type": "markdown",
   "metadata": {},
   "source": [
    "### Introduction\n",
    "Support vector machine is another simple algorithm that every machine learning expert should have in the arsenal. Support vector machine is highly preferred by many as it produces significant accuracy with less computation power. Support Vector Machine abbreviated as SVM can be used for both regression and classification tasks. But it is widely used in classification objectives. The objective of the support vector machine algorithm is to find a hyperplane in N-dimensional space\n",
    "(N — the number of features) that distinctly classifies the data points. To separate the two classes of data points, many possible hyperplanes could be chosen. Our objective is to find a plane that has the maximum margin.\n",
    "\n"
   ]
  },
  {
   "attachments": {},
   "cell_type": "markdown",
   "metadata": {},
   "source": [
    "### Loading the dataset and libraries"
   ]
  },
  {
   "cell_type": "code",
   "execution_count": 1,
   "metadata": {},
   "outputs": [
    {
     "name": "stdout",
     "output_type": "stream",
     "text": [
      ".. _breast_cancer_dataset:\n",
      "\n",
      "Breast cancer wisconsin (diagnostic) dataset\n",
      "--------------------------------------------\n",
      "\n",
      "**Data Set Characteristics:**\n",
      "\n",
      "    :Number of Instances: 569\n",
      "\n",
      "    :Number of Attributes: 30 numeric, predictive attributes and the class\n",
      "\n",
      "    :Attribute Information:\n",
      "        - radius (mean of distances from center to points on the perimeter)\n",
      "        - texture (standard deviation of gray-scale values)\n",
      "        - perimeter\n",
      "        - area\n",
      "        - smoothness (local variation in radius lengths)\n",
      "        - compactness (perimeter^2 / area - 1.0)\n",
      "        - concavity (severity of concave portions of the contour)\n",
      "        - concave points (number of concave portions of the contour)\n",
      "        - symmetry\n",
      "        - fractal dimension (\"coastline approximation\" - 1)\n",
      "\n",
      "        The mean, standard error, and \"worst\" or largest (mean of the three\n",
      "        worst/largest values) of these features were computed for each image,\n",
      "        resulting in 30 features.  For instance, field 0 is Mean Radius, field\n",
      "        10 is Radius SE, field 20 is Worst Radius.\n",
      "\n",
      "        - class:\n",
      "                - WDBC-Malignant\n",
      "                - WDBC-Benign\n",
      "\n",
      "    :Summary Statistics:\n",
      "\n",
      "    ===================================== ====== ======\n",
      "                                           Min    Max\n",
      "    ===================================== ====== ======\n",
      "    radius (mean):                        6.981  28.11\n",
      "    texture (mean):                       9.71   39.28\n",
      "    perimeter (mean):                     43.79  188.5\n",
      "    area (mean):                          143.5  2501.0\n",
      "    smoothness (mean):                    0.053  0.163\n",
      "    compactness (mean):                   0.019  0.345\n",
      "    concavity (mean):                     0.0    0.427\n",
      "    concave points (mean):                0.0    0.201\n",
      "    symmetry (mean):                      0.106  0.304\n",
      "    fractal dimension (mean):             0.05   0.097\n",
      "    radius (standard error):              0.112  2.873\n",
      "    texture (standard error):             0.36   4.885\n",
      "    perimeter (standard error):           0.757  21.98\n",
      "    area (standard error):                6.802  542.2\n",
      "    smoothness (standard error):          0.002  0.031\n",
      "    compactness (standard error):         0.002  0.135\n",
      "    concavity (standard error):           0.0    0.396\n",
      "    concave points (standard error):      0.0    0.053\n",
      "    symmetry (standard error):            0.008  0.079\n",
      "    fractal dimension (standard error):   0.001  0.03\n",
      "    radius (worst):                       7.93   36.04\n",
      "    texture (worst):                      12.02  49.54\n",
      "    perimeter (worst):                    50.41  251.2\n",
      "    area (worst):                         185.2  4254.0\n",
      "    smoothness (worst):                   0.071  0.223\n",
      "    compactness (worst):                  0.027  1.058\n",
      "    concavity (worst):                    0.0    1.252\n",
      "    concave points (worst):               0.0    0.291\n",
      "    symmetry (worst):                     0.156  0.664\n",
      "    fractal dimension (worst):            0.055  0.208\n",
      "    ===================================== ====== ======\n",
      "\n",
      "    :Missing Attribute Values: None\n",
      "\n",
      "    :Class Distribution: 212 - Malignant, 357 - Benign\n",
      "\n",
      "    :Creator:  Dr. William H. Wolberg, W. Nick Street, Olvi L. Mangasarian\n",
      "\n",
      "    :Donor: Nick Street\n",
      "\n",
      "    :Date: November, 1995\n",
      "\n",
      "This is a copy of UCI ML Breast Cancer Wisconsin (Diagnostic) datasets.\n",
      "https://goo.gl/U2Uwz2\n",
      "\n",
      "Features are computed from a digitized image of a fine needle\n",
      "aspirate (FNA) of a breast mass.  They describe\n",
      "characteristics of the cell nuclei present in the image.\n",
      "\n",
      "Separating plane described above was obtained using\n",
      "Multisurface Method-Tree (MSM-T) [K. P. Bennett, \"Decision Tree\n",
      "Construction Via Linear Programming.\" Proceedings of the 4th\n",
      "Midwest Artificial Intelligence and Cognitive Science Society,\n",
      "pp. 97-101, 1992], a classification method which uses linear\n",
      "programming to construct a decision tree.  Relevant features\n",
      "were selected using an exhaustive search in the space of 1-4\n",
      "features and 1-3 separating planes.\n",
      "\n",
      "The actual linear program used to obtain the separating plane\n",
      "in the 3-dimensional space is that described in:\n",
      "[K. P. Bennett and O. L. Mangasarian: \"Robust Linear\n",
      "Programming Discrimination of Two Linearly Inseparable Sets\",\n",
      "Optimization Methods and Software 1, 1992, 23-34].\n",
      "\n",
      "This database is also available through the UW CS ftp server:\n",
      "\n",
      "ftp ftp.cs.wisc.edu\n",
      "cd math-prog/cpo-dataset/machine-learn/WDBC/\n",
      "\n",
      ".. topic:: References\n",
      "\n",
      "   - W.N. Street, W.H. Wolberg and O.L. Mangasarian. Nuclear feature extraction \n",
      "     for breast tumor diagnosis. IS&T/SPIE 1993 International Symposium on \n",
      "     Electronic Imaging: Science and Technology, volume 1905, pages 861-870,\n",
      "     San Jose, CA, 1993.\n",
      "   - O.L. Mangasarian, W.N. Street and W.H. Wolberg. Breast cancer diagnosis and \n",
      "     prognosis via linear programming. Operations Research, 43(4), pages 570-577, \n",
      "     July-August 1995.\n",
      "   - W.H. Wolberg, W.N. Street, and O.L. Mangasarian. Machine learning techniques\n",
      "     to diagnose breast cancer from fine-needle aspirates. Cancer Letters 77 (1994) \n",
      "     163-171.\n"
     ]
    }
   ],
   "source": [
    "# load wisconson breast cancer data\n",
    "\n",
    "import numpy as np\n",
    "import matplotlib.pyplot as plt\n",
    "import seaborn as sns\n",
    "from sklearn.datasets import load_breast_cancer\n",
    "from sklearn.model_selection import train_test_split\n",
    "%matplotlib inline\n",
    "from sklearn.metrics import confusion_matrix\n",
    "from sklearn.datasets import make_blobs\n",
    "\n",
    "cancer = load_breast_cancer()\n",
    "print(cancer['DESCR'])\n",
    "import warnings \n",
    "\n",
    "## Avoid printing out warnings\n",
    "with warnings.catch_warnings():\n",
    "     warnings.filterwarnings(\"ignore\")\n",
    "     X, y = load_breast_cancer(return_X_y=True)"
   ]
  },
  {
   "attachments": {},
   "cell_type": "markdown",
   "metadata": {},
   "source": [
    "### Preparing the data\n",
    "#### Normalizing, Scaling, and Splitting "
   ]
  },
  {
   "cell_type": "code",
   "execution_count": 2,
   "metadata": {},
   "outputs": [],
   "source": [
    "y[y==0] = -1\n",
    "y = y.reshape(-1,1)"
   ]
  },
  {
   "cell_type": "code",
   "execution_count": 3,
   "metadata": {},
   "outputs": [],
   "source": [
    "from sklearn.preprocessing import StandardScaler\n",
    "scaler = StandardScaler()\n",
    "scaler.fit(X)\n",
    "X = scaler.transform(X)\n",
    "\n",
    "X_train, X_test, y_train, y_test = train_test_split(X, y, test_size=0.2, random_state=101)"
   ]
  },
  {
   "attachments": {},
   "cell_type": "markdown",
   "metadata": {},
   "source": [
    "### Computing the SVM"
   ]
  },
  {
   "cell_type": "code",
   "execution_count": 4,
   "metadata": {},
   "outputs": [],
   "source": [
    "def gradient(X, y, w, C): \n",
    "    distance = 1 - (y * np.dot(X, w)) \n",
    "    dw = np.zeros_like(w) \n",
    "    for ind, d in enumerate(distance):\n",
    "        if max(0, d) == 0:\n",
    "            di = w\n",
    "        else:\n",
    "            di = w - (C * y[ind] * X[ind]).reshape(-1,1)\n",
    "        dw += di\n",
    "    dw = dw/len(X) # average\n",
    "    return dw\n",
    "\n",
    "def learning_schedule(t, t0, t1):\n",
    "    return t0 / (t + t1)\n",
    "\n",
    "def mini_batch_gradient_descent(X, y, w, C, n_epochs, batch_size, t0, t1):\n",
    "    m = len(X)\n",
    "    cost_history = np.zeros(n_epochs)\n",
    "    for epoch in range(n_epochs):\n",
    "        shuffled_indices = np.random.permutation(m)\n",
    "        X_shuffled = X[shuffled_indices]\n",
    "        y_shuffled = y[shuffled_indices]\n",
    "        for i in range(0, m, batch_size):\n",
    "            xi = X_shuffled[i:i+batch_size]\n",
    "            yi = y_shuffled[i:i+batch_size]\n",
    "            eta = learning_schedule(epoch * m + i, t0, t1)\n",
    "            gradients = gradient(xi, yi, w, C)\n",
    "            w = w - eta * gradients\n",
    "        cost_history[epoch] = 0.5 * np.dot(w.T, w) + C * np.sum(np.maximum(0, 1 - y * np.dot(X, w)))\n",
    "    return w, cost_history\n",
    "\n",
    "def svm(X, y, C, n_epochs, batch_size, t0, t1):\n",
    "    # initialize w with zeros\n",
    "    w = np.zeros((X.shape[1], 1))\n",
    "    w, cost_history = mini_batch_gradient_descent(X, y, w, C, n_epochs, batch_size, t0, t1)\n",
    "    return w, cost_history"
   ]
  },
  {
   "cell_type": "code",
   "execution_count": 5,
   "metadata": {},
   "outputs": [
    {
     "name": "stdout",
     "output_type": "stream",
     "text": [
      "[[-0.1173098 ]\n",
      " [-0.07441123]\n",
      " [-0.11766548]\n",
      " [-0.11724024]\n",
      " [-0.04384117]\n",
      " [-0.05721033]\n",
      " [-0.10198827]\n",
      " [-0.1284647 ]\n",
      " [-0.03258953]\n",
      " [ 0.03612621]\n",
      " [-0.10869407]\n",
      " [-0.00431107]\n",
      " [-0.09553509]\n",
      " [-0.10107794]\n",
      " [ 0.00298843]\n",
      " [ 0.01656423]\n",
      " [ 0.0198365 ]\n",
      " [-0.01693729]\n",
      " [-0.00876063]\n",
      " [ 0.03115619]\n",
      " [-0.13860157]\n",
      " [-0.09952116]\n",
      " [-0.13350027]\n",
      " [-0.13313798]\n",
      " [-0.09186036]\n",
      " [-0.0678324 ]\n",
      " [-0.08920682]\n",
      " [-0.12647192]\n",
      " [-0.08920033]\n",
      " [-0.04289923]]\n"
     ]
    },
    {
     "data": {
      "image/png": "[encoded data removed]",
      "text/plain": [
       "<Figure size 432x288 with 1 Axes>"
      ]
     },
     "metadata": {
      "needs_background": "light"
     },
     "output_type": "display_data"
    }
   ],
   "source": [
    "\n",
    "def predict(X, w):\n",
    "    return np.sign(np.dot(X, w))\n",
    "\n",
    "w, cost_history = svm(X_train, y_train, C=1, n_epochs=50, batch_size=20, t0=5, t1=50)\n",
    "y_pred = predict(X_test, w)\n",
    "\n",
    "plt.plot(cost_history)\n",
    "print(w)"
   ]
  },
  {
   "attachments": {},
   "cell_type": "markdown",
   "metadata": {},
   "source": [
    "### Evaluating the model\n",
    "- Accuracy\n",
    "- Precision\n",
    "- Recall\n",
    "- F1 Score\n",
    "- Confusion Matrix"
   ]
  },
  {
   "cell_type": "code",
   "execution_count": 6,
   "metadata": {},
   "outputs": [
    {
     "name": "stdout",
     "output_type": "stream",
     "text": [
      "Accuracy: 0.9824561403508771\n",
      "Precision: 0.9722222222222222\n",
      "Recall: 1.0\n",
      "F1 score: 0.9859154929577464\n",
      "Confusion Matrix:\n",
      "[[42  0]\n",
      " [ 2 70]]\n"
     ]
    }
   ],
   "source": [
    "\n",
    "\n",
    "print(\"Accuracy:\", np.mean(y_pred == y_test))\n",
    "\n",
    "print(\"Precision:\", np.mean(y_pred[y_test==1] == y_test[y_test==1]))\n",
    "\n",
    "print(\"Recall:\", np.mean(y_pred[y_test==-1] == y_test[y_test==-1]))\n",
    "\n",
    "print(\"F1 score:\", 2 * np.mean(y_pred[y_test==1] == y_test[y_test==1]) * np.mean(y_pred[y_test==-1] == y_test[y_test==-1]) / (np.mean(y_pred[y_test==1] == y_test[y_test==1]) + np.mean(y_pred[y_test==-1] == y_test[y_test==-1])))\n",
    "\n",
    "print(\"Confusion Matrix:\")\n",
    "print(confusion_matrix(y_test, y_pred))\n",
    "\n"
   ]
  },
  {
   "attachments": {},
   "cell_type": "markdown",
   "metadata": {},
   "source": [
    "### Closest point to the hyperplane (decision boundary)"
   ]
  },
  {
   "cell_type": "code",
   "execution_count": 7,
   "metadata": {},
   "outputs": [
    {
     "name": "stdout",
     "output_type": "stream",
     "text": [
      "Closest point to hyperplane: [-0.19804075  0.07920208 -0.25245611 -0.25451619 -0.41847281 -0.78574699\n",
      " -0.37940264 -0.37502247 -0.77990952 -0.86298204  0.2328949  -0.12673814\n",
      "  0.13659913  0.0673895  -0.346007   -0.82985564 -0.34429312 -0.38170158\n",
      " -0.64683754 -0.72885397  0.3542789   0.68276767  0.27816361  0.1986738\n",
      "  0.33891307 -0.63400893 -0.03736543  0.02122248 -0.02710707 -0.56722618]\n"
     ]
    }
   ],
   "source": [
    "def find_closest_point(X, y, w):\n",
    "      distance = np.abs(y * np.dot(X, w))\n",
    "      idx = np.argmin(distance)\n",
    "      return X[idx]\n",
    "\n",
    "closest_point = find_closest_point(X_train, y_train, w)\n",
    "print(\"Closest point to hyperplane:\", closest_point)\n"
   ]
  },
  {
   "attachments": {},
   "cell_type": "markdown",
   "metadata": {},
   "source": [
    "### Testing with Random Weights and different Splits"
   ]
  },
  {
   "cell_type": "code",
   "execution_count": 8,
   "metadata": {},
   "outputs": [
    {
     "data": {
      "image/png": "[encoded data removed]",
      "text/plain": [
       "<Figure size 432x288 with 1 Axes>"
      ]
     },
     "metadata": {
      "needs_background": "light"
     },
     "output_type": "display_data"
    }
   ],
   "source": [
    "accuracy_scores = []\n",
    "precision_scores = []\n",
    "recall_scores = []\n",
    "f1_scores = []\n",
    "for i in range(2,100,1):\n",
    "    w = np.random.randn(X.shape[1], 1)\n",
    "    X_train, X_test, y_train, y_test = train_test_split(X, y, test_size=0.2)\n",
    "    w, cost_history = mini_batch_gradient_descent(X_train, y_train, w, C=1, n_epochs=50, batch_size=i, t0=5, t1=50)\n",
    "    y_pred = predict(X_test, w)\n",
    "    f1 = 2 * np.mean(y_pred[y_test==1] == y_test[y_test==1]) * np.mean(y_pred[y_test==-1] == y_test[y_test==-1]) / (np.mean(y_pred[y_test==1] == y_test[y_test==1]) + np.mean(y_pred[y_test==-1] == y_test[y_test==-1]))\n",
    "    accuracy = np.mean(y_pred == y_test)\n",
    "    precision = np.mean(y_pred[y_test==1] == y_test[y_test==1])\n",
    "    recall = np.mean(y_pred[y_test==-1] == y_test[y_test==-1])\n",
    "    accuracy_scores.append(accuracy)\n",
    "    precision_scores.append(precision)\n",
    "    recall_scores.append(recall)\n",
    "    f1_scores.append(f1)\n",
    "\n",
    "\n",
    "# plot accuracy, precision, recall, f1 scores vs batch size \n",
    "plt.plot(range(2,100,1), accuracy_scores, label='accuracy')\n",
    "plt.plot(range(2,100,1), precision_scores, label='precision')\n",
    "plt.plot(range(2,100,1), recall_scores, label='recall')\n",
    "plt.plot(range(2,100,1), f1_scores, label='f1')\n",
    "plt.legend()\n",
    "plt.show()\n",
    "\n"
   ]
  },
  {
   "attachments": {},
   "cell_type": "markdown",
   "metadata": {},
   "source": [
    "As the batch size gets larger and larger, there are large fluctuations in the evaluation metrics.\n",
    "\n",
    "So, we can see that a low batch size for mini-batch stochastic gradient descent is better than a higher batch size, as it gives more stable results. "
   ]
  },
  {
   "attachments": {},
   "cell_type": "markdown",
   "metadata": {},
   "source": [
    "### Testing the model on generated blobs"
   ]
  },
  {
   "cell_type": "code",
   "execution_count": 9,
   "metadata": {},
   "outputs": [
    {
     "name": "stdout",
     "output_type": "stream",
     "text": [
      "F1 score: 1.0\n"
     ]
    },
    {
     "data": {
      "text/plain": [
       "[<matplotlib.lines.Line2D at 0x14f2f5070>]"
      ]
     },
     "execution_count": 9,
     "metadata": {},
     "output_type": "execute_result"
    },
    {
     "data": {
      "image/png": "[encoded data removed]",
      "text/plain": [
       "<Figure size 432x288 with 1 Axes>"
      ]
     },
     "metadata": {
      "needs_background": "light"
     },
     "output_type": "display_data"
    }
   ],
   "source": [
    "\n",
    "X, Y = make_blobs(n_samples=1000, centers=2, random_state=101)\n",
    "\n",
    "Y[Y==0] = -1\n",
    "Y = Y.reshape(-1,1)\n",
    "\n",
    "scaler = StandardScaler()\n",
    "scaler.fit(X)\n",
    "X = scaler.transform(X)\n",
    "\n",
    "X_train, X_test, y_train, y_test = train_test_split(X, Y, test_size=0.2)\n",
    "w, cost_history = svm(X_train, y_train, C=1, n_epochs=100, batch_size=32, t0=5, t1=50)\n",
    "y_pred = predict(X_test, w)\n",
    "\n",
    "print(\"F1 score:\", 2 * np.mean(y_pred[y_test==1] == y_test[y_test==1]) * np.mean(y_pred[y_test==-1] == y_test[y_test==-1]) / (np.mean(y_pred[y_test==1] == y_test[y_test==1]) + np.mean(y_pred[y_test==-1] == y_test[y_test==-1])))\n",
    "\n",
    "plt.plot(cost_history)\n",
    "\n"
   ]
  }
 ],
 "metadata": {
  "kernelspec": {
   "display_name": "base",
   "language": "python",
   "name": "python3"
  },
  "language_info": {
   "codemirror_mode": {
    "name": "ipython",
    "version": 3
   },
   "file_extension": ".py",
   "mimetype": "text/x-python",
   "name": "python",
   "nbconvert_exporter": "python",
   "pygments_lexer": "ipython3",
   "version": "3.9.12"
  },
  "orig_nbformat": 4,
  "vscode": {
   "interpreter": {
    "hash": "c521ae397b597c91e2dec1b4d096569d5ec93d5cf132e2e565de1cde8e2dbae0"
   }
  }
 },
 "nbformat": 4,
 "nbformat_minor": 2
}
